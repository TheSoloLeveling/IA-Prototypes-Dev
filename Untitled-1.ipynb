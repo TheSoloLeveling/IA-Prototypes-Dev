{
 "cells": [
  {
   "cell_type": "code",
   "execution_count": 6,
   "metadata": {},
   "outputs": [],
   "source": [
    "import cv2\n",
    "import numpy as np"
   ]
  },
  {
   "cell_type": "code",
   "execution_count": 3,
   "metadata": {},
   "outputs": [],
   "source": [
    "#Load the image\n",
    "image = cv2.imread('maxresdefault.jpg')"
   ]
  },
  {
   "cell_type": "code",
   "execution_count": 24,
   "metadata": {},
   "outputs": [
    {
     "data": {
      "text/plain": [
       "-1"
      ]
     },
     "execution_count": 24,
     "metadata": {},
     "output_type": "execute_result"
    }
   ],
   "source": [
    "#Display the image\n",
    "cv2.imshow('result', canny)  \n",
    "cv2.waitKey(0)\n"
   ]
  },
  {
   "cell_type": "code",
   "execution_count": 20,
   "metadata": {},
   "outputs": [],
   "source": [
    "#avoid any changes in the original viewable array\n",
    "lane_image = np.copy(image)\n",
    "#convert the image from RGB to gray color space\n",
    "gray = cv2.cvtColor(lane_image, cv2.COLOR_RGB2GRAY)\n",
    "#Gaussian Blur to reduce noise in the grayscale image\n",
    "blur = cv2.GaussianBlur(gray, (5,5), 0)"
   ]
  },
  {
   "cell_type": "code",
   "execution_count": 23,
   "metadata": {},
   "outputs": [],
   "source": [
    "#Canny apply internally a 5 by 5 Gaussian \n",
    "# gradient > high_threshold ==> accepted as an edge pixel\n",
    "# gradient < low_threshold ==> rejected\n",
    "# low_threshold < gradient < high_threshold ==> accepted only if its connected to a strong edge\n",
    "canny = cv2.Canny(blur, 50, 150)"
   ]
  },
  {
   "cell_type": "code",
   "execution_count": null,
   "metadata": {},
   "outputs": [],
   "source": []
  }
 ],
 "metadata": {
  "kernelspec": {
   "display_name": "Python 3.9.12 ('base')",
   "language": "python",
   "name": "python3"
  },
  "language_info": {
   "codemirror_mode": {
    "name": "ipython",
    "version": 3
   },
   "file_extension": ".py",
   "mimetype": "text/x-python",
   "name": "python",
   "nbconvert_exporter": "python",
   "pygments_lexer": "ipython3",
   "version": "3.9.12"
  },
  "orig_nbformat": 4,
  "vscode": {
   "interpreter": {
    "hash": "60189e6238b30abc6f7e823ff8f5eba247572fea5695e69eebc1e45c47367f62"
   }
  }
 },
 "nbformat": 4,
 "nbformat_minor": 2
}
